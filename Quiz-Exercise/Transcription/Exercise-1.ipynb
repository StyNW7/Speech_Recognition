{
 "cells": [
  {
   "cell_type": "markdown",
   "id": "4cb35364",
   "metadata": {},
   "source": [
    "# Import Library"
   ]
  },
  {
   "cell_type": "code",
   "execution_count": 23,
   "id": "2d4304b0",
   "metadata": {},
   "outputs": [],
   "source": [
    "import torch\n",
    "import torchaudio\n",
    "import librosa\n",
    "import soundfile as sf\n",
    "from pydub import AudioSegment\n",
    "import random"
   ]
  },
  {
   "cell_type": "markdown",
   "id": "80e45330",
   "metadata": {},
   "source": [
    "# Settings Model and Audio File"
   ]
  },
  {
   "cell_type": "code",
   "execution_count": 24,
   "id": "1083441d",
   "metadata": {},
   "outputs": [],
   "source": [
    "bundle = torchaudio.pipelines.WAV2VEC2_ASR_BASE_960H\n",
    "model = bundle.get_model()"
   ]
  },
  {
   "cell_type": "code",
   "execution_count": 25,
   "id": "892f6e73",
   "metadata": {},
   "outputs": [],
   "source": [
    "AUDIO_FILE = \"./speech.wav\""
   ]
  },
  {
   "cell_type": "markdown",
   "id": "331233e1",
   "metadata": {},
   "source": [
    "# Predict Function"
   ]
  },
  {
   "cell_type": "code",
   "execution_count": null,
   "id": "711c7682",
   "metadata": {},
   "outputs": [],
   "source": [
    "def predict_text(audio_path):\n",
    "\n",
    "    # Load\n",
    "    waveform, sample_rate = torchaudio.load(audio_path)\n",
    "\n",
    "    if sample_rate != bundle.sample_rate:\n",
    "        waveform = torchaudio.functional.resample(waveform, sample_rate, bundle.sample_rate)\n",
    "\n",
    "    with torch.inference_mode():\n",
    "        emission, _ = model(waveform)\n",
    "\n",
    "    class GreedyCTCDecoder(torch.nn.Module):\n",
    "        def __init__(self, labels):\n",
    "            super().__init__()\n",
    "            self.labels = labels\n",
    "            self.blank = 0\n",
    "\n",
    "        def forward(self, emission:torch.Tensor)->str:\n",
    "            indices = torch.argmax(emission, dim=-1)\n",
    "            indices = torch.unique_consecutive(indices, dim=-1)\n",
    "            indices = [i for i in indices if i != self.blank]\n",
    "            return ''.join([self.labels[i] for i in indices])\n",
    "        \n",
    "    decoder = GreedyCTCDecoder(bundle.get_labels())\n",
    "    transcript = decoder(emission[0])\n",
    "    transcript = transcript.replace(\"|\", \" \")\n",
    "    return transcript"
   ]
  },
  {
   "cell_type": "markdown",
   "id": "f97efcc8",
   "metadata": {},
   "source": [
    "# Sub Menu 1 Functions"
   ]
  },
  {
   "cell_type": "code",
   "execution_count": null,
   "id": "8bf9f838",
   "metadata": {},
   "outputs": [],
   "source": [
    "def validate_filename(filename):\n",
    "    if filename.endswith(\".wav\"):\n",
    "        return True\n",
    "    else:\n",
    "        print (\"File name must end with .wav\")\n",
    "        return False\n",
    "\n",
    "def adjust_volume(audio, db):\n",
    "    return audio + db\n",
    "\n",
    "def adjust_pitch(audio_path, pitch_rate):\n",
    "    data, sample_rate = librosa.load(audio_path, sr=None)\n",
    "    shifted_audio = librosa.effects.pitch_shift(data, sr=sample_rate, n_steps=pitch_rate)\n",
    "\n",
    "    temp_file = \"shifted.wav\"\n",
    "    sf.write(temp_file, shifted_audio, sample_rate)\n",
    "\n",
    "    new_audio = AudioSegment.from_wav(temp_file)\n",
    "    return new_audio\n",
    "\n",
    "def apply_fade_in(audio, duration):\n",
    "    return audio.fade_in(duration)\n",
    "\n",
    "def apply_fade_out(audio, duration):\n",
    "    return audio.fade_out(duration)\n",
    "\n",
    "def export_file(audio, filename):\n",
    "    audio.export(filename, format=\"wav\")\n",
    "    print(f\"Audio successfully exported as {filename}\")\n",
    "\n",
    "def export_function(audio):\n",
    "    while True:\n",
    "        filename = input('file name: ')\n",
    "        if filename.endswith('.wav'):\n",
    "            break\n",
    "        else:\n",
    "            print('filename must end with .wav')\n",
    "    export_file(audio, filename)"
   ]
  },
  {
   "cell_type": "markdown",
   "id": "5b2e4a05",
   "metadata": {},
   "source": [
    "# Menu 1"
   ]
  },
  {
   "cell_type": "code",
   "execution_count": 28,
   "id": "5f2e4f8d",
   "metadata": {},
   "outputs": [],
   "source": [
    "def menu1():\n",
    "    audio = AudioSegment.from_wav(AUDIO_FILE)\n",
    "    while True:\n",
    "        print('1. increase or decrease volume')\n",
    "        print('2. increase or decrease pitch')\n",
    "        print('3. insert fade in effect')\n",
    "        print('4. insert fade out effect')\n",
    "        print('5. back to main menu')\n",
    "\n",
    "        choice = int(input('>> '))\n",
    "\n",
    "        if choice == 1:\n",
    "            while True:\n",
    "                db_input = int(input('input db: '))\n",
    "                if db_input > -10000 and db_input < 100:\n",
    "                    break\n",
    "                else:\n",
    "                    print('must be between -10000 and 100')\n",
    "            audio = adjust_volume(audio, db_input)\n",
    "            export_function(audio)\n",
    "        elif choice == 2:\n",
    "            while True:\n",
    "                pitch = int(input('input pitch: '))\n",
    "                if pitch > -10 and pitch < 10:\n",
    "                    break\n",
    "                else:\n",
    "                    print('must be between -10 and 10')\n",
    "            audio = adjust_pitch(AUDIO_FILE, pitch)\n",
    "            export_function(audio)\n",
    "        elif choice == 3:\n",
    "            duration = random.randint(1, 5)*1000\n",
    "            audio = apply_fade_in(audio, duration)\n",
    "            export_function(audio)\n",
    "        elif choice == 4:\n",
    "            duration = random.randint(1, 5)*1000\n",
    "            audio = apply_fade_out(audio, duration)\n",
    "            export_function(audio)\n",
    "        elif choice == 5:\n",
    "            break\n",
    "        else:\n",
    "            print('must be 1-5')"
   ]
  },
  {
   "cell_type": "markdown",
   "id": "5e2cf755",
   "metadata": {},
   "source": [
    "# Main Menu"
   ]
  },
  {
   "cell_type": "code",
   "execution_count": 29,
   "id": "8e73f7d5",
   "metadata": {},
   "outputs": [],
   "source": [
    "def main_menu():\n",
    "    while True:\n",
    "        print('1. audio augmentation')\n",
    "        print('2. predict text')\n",
    "        print('3. exit')\n",
    "\n",
    "        choice = int(input('>> '))\n",
    "        if choice == 1:\n",
    "            menu1()\n",
    "        elif choice == 2:\n",
    "            transcript = predict_text(AUDIO_FILE)\n",
    "            print(transcript)\n",
    "        elif choice == 3:\n",
    "            break\n",
    "    print('thank you for using the program')"
   ]
  },
  {
   "cell_type": "code",
   "execution_count": 30,
   "id": "fee2bca4",
   "metadata": {},
   "outputs": [
    {
     "name": "stdout",
     "output_type": "stream",
     "text": [
      "1. audio augmentation\n",
      "2. predict text\n",
      "3. exit\n",
      "1. increase or decrease volume\n",
      "2. increase or decrease pitch\n",
      "3. insert fade in effect\n",
      "4. insert fade out effect\n",
      "5. back to main menu\n",
      "filename must end with .wav\n",
      "Audio successfully exported as hii.wav\n",
      "1. increase or decrease volume\n",
      "2. increase or decrease pitch\n",
      "3. insert fade in effect\n",
      "4. insert fade out effect\n",
      "5. back to main menu\n",
      "1. audio augmentation\n",
      "2. predict text\n",
      "3. exit\n",
      "thank you for using the program\n"
     ]
    }
   ],
   "source": [
    "main_menu()"
   ]
  }
 ],
 "metadata": {
  "kernelspec": {
   "display_name": "tf-env",
   "language": "python",
   "name": "python3"
  },
  "language_info": {
   "codemirror_mode": {
    "name": "ipython",
    "version": 3
   },
   "file_extension": ".py",
   "mimetype": "text/x-python",
   "name": "python",
   "nbconvert_exporter": "python",
   "pygments_lexer": "ipython3",
   "version": "3.10.6"
  }
 },
 "nbformat": 4,
 "nbformat_minor": 5
}
