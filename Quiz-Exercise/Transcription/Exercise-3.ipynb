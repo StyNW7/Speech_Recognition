{
 "cells": [
  {
   "cell_type": "markdown",
   "id": "5b0d5d49",
   "metadata": {},
   "source": [
    "# Import Library"
   ]
  },
  {
   "cell_type": "code",
   "execution_count": 3,
   "id": "c337b949",
   "metadata": {},
   "outputs": [],
   "source": [
    "import torch\n",
    "import torchaudio\n",
    "import librosa\n",
    "import soundfile as sf\n",
    "import random\n",
    "from pydub import AudioSegment"
   ]
  },
  {
   "cell_type": "markdown",
   "id": "cb621092",
   "metadata": {},
   "source": [
    "# Settings Variable"
   ]
  },
  {
   "cell_type": "code",
   "execution_count": 4,
   "id": "b13a7c72",
   "metadata": {},
   "outputs": [],
   "source": [
    "bundle = torchaudio.pipelines.WAV2VEC2_ASR_BASE_960H\n",
    "model = bundle.get_model()"
   ]
  },
  {
   "cell_type": "code",
   "execution_count": 5,
   "id": "0c0d2701",
   "metadata": {},
   "outputs": [],
   "source": [
    "AUDIO_PATH = \"./speech.wav\""
   ]
  },
  {
   "cell_type": "markdown",
   "id": "4dbd4e27",
   "metadata": {},
   "source": [
    "# Predict Function"
   ]
  },
  {
   "cell_type": "code",
   "execution_count": 6,
   "id": "c0b140ed",
   "metadata": {},
   "outputs": [],
   "source": [
    "def predict_text(audio_path):\n",
    "\n",
    "    # Load\n",
    "    waveform, sample_rate = torchaudio.load(audio_path)\n",
    "\n",
    "    # Resample\n",
    "    if sample_rate != bundle.sample_rate:\n",
    "        waveform = torchaudio.functional.resample(waveform, sample_rate, bundle.sample_rate)\n",
    "\n",
    "    with torch.inference_mode():\n",
    "        emission, _ = model(waveform)\n",
    "\n",
    "    class GreedyCTCDecoder(torch.nn.Module):\n",
    "        def __init__(self, labels):\n",
    "            super().__init__()\n",
    "            self.labels = labels\n",
    "            self.blank = 0\n",
    "\n",
    "        def forward(self, emission:torch.Tensor)->str:\n",
    "            indices = torch.argmax(emission, dim=-1)\n",
    "            indices = torch.unique_consecutive(indices, dim=-1)\n",
    "            indices = [i for i in indices if i != self.blank]\n",
    "            return ''.join([self.labels[i] for i in indices])\n",
    "        \n",
    "    decoder = GreedyCTCDecoder(bundle.get_labels())\n",
    "    transcript = decoder(emission[0])\n",
    "    transcript = transcript.replace(\"|\", \" \")\n",
    "    return transcript"
   ]
  },
  {
   "cell_type": "markdown",
   "id": "660f136a",
   "metadata": {},
   "source": [
    "# Sub Menu Functions"
   ]
  },
  {
   "cell_type": "code",
   "execution_count": null,
   "id": "fcdabf4c",
   "metadata": {},
   "outputs": [],
   "source": [
    "def validate_filename(filename):\n",
    "    if filename.endswith(\".wav\"):\n",
    "        return True\n",
    "    else:\n",
    "        print (\"Filename must ends with .wav\")\n",
    "        return False\n",
    "    \n",
    "def adjust_volume(audio, db):\n",
    "    return audio + db\n",
    "\n",
    "def adjust_pitch(audio_path, pitch_rate):\n",
    "    data, sample_rate = librosa.load(audio_path, sr=None)\n",
    "    shifted_data = librosa.effects.pitch_shift(data, sr=sample_rate, n_steps=pitch_rate)\n",
    "\n",
    "    temp_file = \"shifted.wav\"\n",
    "    sf.write(temp_file, shifted_data, sample_rate)\n",
    "\n",
    "    new_audio = AudioSegment.from_wav(temp_file)\n",
    "    return new_audio\n",
    "\n",
    "def apply_fade_in(audio, duration):\n",
    "    return audio.fade_in(duration)\n",
    "\n",
    "def apply_fade_out(audio, duration):\n",
    "    return audio.fade_out(duration)\n",
    "\n",
    "def export_file(audio, filename):\n",
    "    audio.export(filename, format=\"wav\")\n",
    "    print (f\"Audio successfully exported as {filename}\")\n",
    "\n",
    "def export_functionn(audio):\n",
    "    while True:\n",
    "        filename = input(\"Please input the filename\")\n",
    "        if filename.endswith(\".wav\"):\n",
    "            break\n",
    "        else:\n",
    "            print (\"Filename must endswith .wav\")\n",
    "\n",
    "    export_file(audio, filename)"
   ]
  },
  {
   "cell_type": "markdown",
   "id": "02f70022",
   "metadata": {},
   "source": [
    "# Menu Functions"
   ]
  },
  {
   "cell_type": "code",
   "execution_count": null,
   "id": "0e052b1d",
   "metadata": {},
   "outputs": [],
   "source": [
    "def menu_1():\n",
    "\n",
    "    audio = AudioSegment.from_wav(AUDIO_PATH)\n",
    "\n",
    "    while True:\n",
    "\n",
    "        print('1. increase or decrease volume')\n",
    "        print('2. increase or decrease pitch')\n",
    "        print('3. insert fade in effect')\n",
    "        print('4. insert fade out effect')\n",
    "        print('5. back to main menu')\n",
    "\n",
    "        choice = input(\">> \")\n",
    "\n",
    "        if choice == '1':\n",
    "            while True:\n",
    "                db = int(input(\"Input the volume between -10000 and 100\"))\n",
    "                if db > -10000 and db < 100:\n",
    "                    break\n",
    "                else:\n",
    "                    print (\"db must be between -10000 and 100\")\n",
    "            audio = adjust_volume(audio, db)\n",
    "            export_functionn(audio)\n",
    "\n",
    "        elif choice == '2':\n",
    "            while True:\n",
    "                pitch = int(input(\"Input the volume between -10 and 10\"))\n",
    "                if pitch > -10 and pitch < 10:\n",
    "                    break\n",
    "                else:\n",
    "                    print (\"pitch must be between -10 and 10\")\n",
    "            audio = adjust_pitch(AUDIO_PATH, pitch)\n",
    "            export_functionn(audio)\n",
    "\n",
    "        elif choice == '3':\n",
    "            duration = random.randint(1, 5) * 1000\n",
    "            audio = apply_fade_in(audio, duration)\n",
    "            export_functionn(audio)\n",
    "        \n",
    "        elif choice == '4':\n",
    "            duration = random.randint(1, 5) * 1000\n",
    "            audio = apply_fade_out(audio, duration)\n",
    "            export_functionn(audio)\n",
    "\n",
    "        elif choice == '5':\n",
    "            break\n",
    "    \n",
    "        else:\n",
    "            print (\"Submenu input must be between 1-5\")"
   ]
  },
  {
   "cell_type": "markdown",
   "id": "fc2c6c87",
   "metadata": {},
   "source": [
    "# Main Menu"
   ]
  },
  {
   "cell_type": "code",
   "execution_count": 9,
   "id": "a5b14f61",
   "metadata": {},
   "outputs": [],
   "source": [
    "def main_menu():\n",
    "\n",
    "    while True:\n",
    "\n",
    "        print (\"1. Audio Segmentation\")\n",
    "        print (\"2. Predict Text\")\n",
    "        print (\"3. Exit\")\n",
    "\n",
    "        choice = input (\"Input your menu choice\")\n",
    "\n",
    "        if choice == '1':\n",
    "            menu_1()\n",
    "        elif choice == '2':\n",
    "            transcript = predict_text(AUDIO_PATH)\n",
    "            print (transcript)\n",
    "        elif choice == '3':\n",
    "            print (\"Thank youu :)\")\n",
    "            break"
   ]
  },
  {
   "cell_type": "code",
   "execution_count": 10,
   "id": "40f19489",
   "metadata": {},
   "outputs": [
    {
     "name": "stdout",
     "output_type": "stream",
     "text": [
      "1. Audio Segmentation\n",
      "2. Predict Text\n",
      "3. Exit\n",
      "1. increase or decrease volume\n",
      "2. increase or decrease pitch\n",
      "3. insert fade in effect\n",
      "4. insert fade out effect\n",
      "5. back to main menu\n"
     ]
    },
    {
     "ename": "TypeError",
     "evalue": "'>' not supported between instances of 'str' and 'int'",
     "output_type": "error",
     "traceback": [
      "\u001b[1;31m---------------------------------------------------------------------------\u001b[0m",
      "\u001b[1;31mTypeError\u001b[0m                                 Traceback (most recent call last)",
      "Cell \u001b[1;32mIn[10], line 1\u001b[0m\n\u001b[1;32m----> 1\u001b[0m \u001b[43mmain_menu\u001b[49m\u001b[43m(\u001b[49m\u001b[43m)\u001b[49m\n",
      "Cell \u001b[1;32mIn[9], line 12\u001b[0m, in \u001b[0;36mmain_menu\u001b[1;34m()\u001b[0m\n\u001b[0;32m      9\u001b[0m choice \u001b[38;5;241m=\u001b[39m \u001b[38;5;28minput\u001b[39m (\u001b[38;5;124m\"\u001b[39m\u001b[38;5;124mInput your menu choice\u001b[39m\u001b[38;5;124m\"\u001b[39m)\n\u001b[0;32m     11\u001b[0m \u001b[38;5;28;01mif\u001b[39;00m choice \u001b[38;5;241m==\u001b[39m \u001b[38;5;124m'\u001b[39m\u001b[38;5;124m1\u001b[39m\u001b[38;5;124m'\u001b[39m:\n\u001b[1;32m---> 12\u001b[0m     \u001b[43mmenu_1\u001b[49m\u001b[43m(\u001b[49m\u001b[43m)\u001b[49m\n\u001b[0;32m     13\u001b[0m \u001b[38;5;28;01melif\u001b[39;00m choice \u001b[38;5;241m==\u001b[39m \u001b[38;5;124m'\u001b[39m\u001b[38;5;124m2\u001b[39m\u001b[38;5;124m'\u001b[39m:\n\u001b[0;32m     14\u001b[0m     transcript \u001b[38;5;241m=\u001b[39m predict_text(AUDIO_PATH)\n",
      "Cell \u001b[1;32mIn[8], line 18\u001b[0m, in \u001b[0;36mmenu_1\u001b[1;34m()\u001b[0m\n\u001b[0;32m     16\u001b[0m \u001b[38;5;28;01mwhile\u001b[39;00m \u001b[38;5;28;01mTrue\u001b[39;00m:\n\u001b[0;32m     17\u001b[0m     db \u001b[38;5;241m=\u001b[39m \u001b[38;5;28minput\u001b[39m(\u001b[38;5;124m\"\u001b[39m\u001b[38;5;124mInput the volume between -10000 and 100\u001b[39m\u001b[38;5;124m\"\u001b[39m)\n\u001b[1;32m---> 18\u001b[0m     \u001b[38;5;28;01mif\u001b[39;00m \u001b[43mdb\u001b[49m\u001b[43m \u001b[49m\u001b[38;5;241;43m>\u001b[39;49m\u001b[43m \u001b[49m\u001b[38;5;241;43m-\u001b[39;49m\u001b[38;5;241;43m10000\u001b[39;49m \u001b[38;5;129;01mand\u001b[39;00m db \u001b[38;5;241m<\u001b[39m \u001b[38;5;241m100\u001b[39m:\n\u001b[0;32m     19\u001b[0m         \u001b[38;5;28;01mbreak\u001b[39;00m\n\u001b[0;32m     20\u001b[0m     \u001b[38;5;28;01melse\u001b[39;00m:\n",
      "\u001b[1;31mTypeError\u001b[0m: '>' not supported between instances of 'str' and 'int'"
     ]
    }
   ],
   "source": [
    "main_menu()"
   ]
  }
 ],
 "metadata": {
  "kernelspec": {
   "display_name": "tf-env",
   "language": "python",
   "name": "python3"
  },
  "language_info": {
   "codemirror_mode": {
    "name": "ipython",
    "version": 3
   },
   "file_extension": ".py",
   "mimetype": "text/x-python",
   "name": "python",
   "nbconvert_exporter": "python",
   "pygments_lexer": "ipython3",
   "version": "3.10.6"
  }
 },
 "nbformat": 4,
 "nbformat_minor": 5
}
