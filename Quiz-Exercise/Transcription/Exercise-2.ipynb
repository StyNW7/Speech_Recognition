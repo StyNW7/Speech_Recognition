{
 "cells": [
  {
   "cell_type": "markdown",
   "id": "dee68353",
   "metadata": {},
   "source": [
    "# Import Library"
   ]
  },
  {
   "cell_type": "code",
   "execution_count": null,
   "id": "65e4f01f",
   "metadata": {},
   "outputs": [],
   "source": [
    "import torch\n",
    "import torchaudio\n",
    "import librosa\n",
    "import soundfile as sf\n",
    "import random\n",
    "from pydub import AudioSegment"
   ]
  },
  {
   "cell_type": "markdown",
   "id": "6a395832",
   "metadata": {},
   "source": [
    "# Settings Variable"
   ]
  },
  {
   "cell_type": "code",
   "execution_count": null,
   "id": "76a06d77",
   "metadata": {},
   "outputs": [],
   "source": [
    "bundle = torchaudio.pipelines.WAV2VEC2_ASR_BASE_960H\n",
    "model = bundle.get_model()"
   ]
  },
  {
   "cell_type": "code",
   "execution_count": 6,
   "id": "3f569eb1",
   "metadata": {},
   "outputs": [],
   "source": [
    "AUDIO_FILE = \"./speech.wav\""
   ]
  },
  {
   "cell_type": "markdown",
   "id": "4becec09",
   "metadata": {},
   "source": [
    "# Predict Function"
   ]
  },
  {
   "cell_type": "code",
   "execution_count": null,
   "id": "1f0767b6",
   "metadata": {},
   "outputs": [],
   "source": [
    "def predict_text(audio_path):\n",
    "\n",
    "    # Load\n",
    "    waveform, sample_rate = torchaudio.load(audio_path)\n",
    "\n",
    "    # Resample\n",
    "    if sample_rate != bundle.sample_rate:\n",
    "        waveform = torchaudio.functional.resample(waveform, sample_rate, bundle.sample_rate)\n",
    "\n",
    "    with torch.inference_mode():\n",
    "        emission, _ = model(waveform)\n",
    "\n",
    "    class GreedyCTCDecoder(torch.nn.Module):\n",
    "        def __init__(self, labels):\n",
    "            super().__init__()\n",
    "            self.labels = labels\n",
    "            self.blank = 0\n",
    "\n",
    "        def forward(self, emission:torch.Tensor)->str:\n",
    "            indices = torch.argmax(emission, dim=-1)\n",
    "            indices = torch.unique_consecutive(indices, dim=-1)\n",
    "            indices = [i for i in indices if i != self.blank]\n",
    "            return ''.join([self.labels[i] for i in indices])\n",
    "        \n",
    "    decoder = GreedyCTCDecoder(bundle.get_labels())\n",
    "    transcript = decoder(emission[0])\n",
    "    transcript = transcript.replace(\"|\", \" \")\n",
    "    return transcript"
   ]
  },
  {
   "cell_type": "markdown",
   "id": "58cc1fab",
   "metadata": {},
   "source": [
    "# Sub Menu Functions"
   ]
  },
  {
   "cell_type": "code",
   "execution_count": 8,
   "id": "49426c18",
   "metadata": {},
   "outputs": [],
   "source": [
    "def validate_filename(filename):\n",
    "    if filename.endswith(\".wav\"):\n",
    "        return True\n",
    "    else:\n",
    "        print (\"Filename must ends with .wav\")\n",
    "        return False\n",
    "    \n",
    "def adjust_volume(audio, volume):\n",
    "    return audio + volume\n",
    "\n",
    "def adjust_pitch(audio_path, pitch_rate):\n",
    "    data, sample_rate = librosa.load(audio_path, sr=None)\n",
    "    shifted_audio = librosa.effects.pitch_shift(data, sr=sample_rate, n_steps=pitch_rate)\n",
    "    temp_file_name = \"shifted.wav\"\n",
    "    sf.write(temp_file_name, shifted_audio, sample_rate)\n",
    "    new_audio = AudioSegment.from_wav(temp_file_name)\n",
    "    return new_audio\n",
    "\n",
    "def apply_fade_in(audio, duration):\n",
    "    return audio.fade_in(duration)\n",
    "\n",
    "def apply_fade_out(audio, duration):\n",
    "    return audio.fade_out(duration)\n",
    "\n",
    "def export_file(audio, filename):\n",
    "    audio.export(filename, format=\"wav\")\n",
    "    print (f\"Audio successfully exported as {filename}\")\n",
    "\n",
    "def export_function(audio):\n",
    "    while True:\n",
    "        filename = input(\"Please input the filename\")\n",
    "        if filename.endswith(\".wav\"):\n",
    "            break\n",
    "        else:\n",
    "            print (\"Please end the filename with .wav\")\n",
    "    export_file(audio, filename)"
   ]
  },
  {
   "cell_type": "markdown",
   "id": "29f95fee",
   "metadata": {},
   "source": [
    "# Menu Functions"
   ]
  },
  {
   "cell_type": "code",
   "execution_count": null,
   "id": "0e43bd9d",
   "metadata": {},
   "outputs": [],
   "source": [
    "def menu_1():\n",
    "    \n",
    "    audio = AudioSegment.from_wav(AUDIO_FILE)\n",
    "\n",
    "    while True:\n",
    "        print (\"1. Increase or Decrease Volume\")\n",
    "        print (\"2. Increase or Decrease Pitch\")\n",
    "        print (\"3. Insert Fade In Effect\")\n",
    "        print (\"4. Insert Fade Out Effect\")\n",
    "        print (\"5. Back to the main menu\")\n",
    "\n",
    "        choice = input(\"Please input chose your menu\")\n",
    "\n",
    "        if choice == '1':\n",
    "            while True:\n",
    "                db_input = int(input(\"Input db: \"))\n",
    "                if db_input > -10000 and db_input < 100:\n",
    "                    break\n",
    "                else:\n",
    "                    print (\"db input must be between -10000 and 100\")\n",
    "            audio = adjust_volume(audio, db_input)\n",
    "            export_function(audio)\n",
    "\n",
    "        elif choice == '2':\n",
    "            while True:\n",
    "                pitch = int(input(\"Input pitch\"))\n",
    "                if pitch > -10 and pitch < 10:\n",
    "                    break\n",
    "                else:\n",
    "                    print (\"Pitch input must be between -10 and 10\")\n",
    "\n",
    "            audio = adjust_pitch(AUDIO_FILE, pitch)\n",
    "            export_function(audio)\n",
    "\n",
    "        elif choice == '3':\n",
    "            duration = random.randint(1, 5) * 1000\n",
    "            audio = apply_fade_in(audio, duration)\n",
    "            export_function(audio)\n",
    "        \n",
    "        elif choice == '4':\n",
    "            duration = random.randint(1, 5) * 1000\n",
    "            audio = apply_fade_out(audio, duration)\n",
    "            export_function(audio)\n",
    "\n",
    "        elif choice =='5':\n",
    "            break\n",
    "\n",
    "        else:\n",
    "            print (\"Input menu must be between 1-5\")"
   ]
  },
  {
   "cell_type": "markdown",
   "id": "9e66e5f4",
   "metadata": {},
   "source": [
    "# Main Menu"
   ]
  },
  {
   "cell_type": "code",
   "execution_count": 10,
   "id": "fd0269b4",
   "metadata": {},
   "outputs": [],
   "source": [
    "def main_menu():\n",
    "    while True:\n",
    "        print (\"1. Audio Augmentation\")\n",
    "        print (\"2. Predict Text\")\n",
    "        print (\"3. Exit\")\n",
    "\n",
    "        choice = input(\"Input your menu\")\n",
    "\n",
    "        if choice == \"1\":\n",
    "            menu_1()\n",
    "        elif  choice == \"2\":\n",
    "            transcript = predict_text(AUDIO_FILE)\n",
    "            print (f\"Text Prediction: {transcript}\")\n",
    "        elif choice == \"3\":\n",
    "            break\n",
    "        else:\n",
    "            print (\"Input must be between 1-3\")"
   ]
  },
  {
   "cell_type": "code",
   "execution_count": 11,
   "id": "379e1264",
   "metadata": {},
   "outputs": [
    {
     "name": "stdout",
     "output_type": "stream",
     "text": [
      "1. Audio Augmentation\n",
      "2. Predict Text\n",
      "3. Exit\n",
      "1. Increase or Decrease Volume\n",
      "2. Increase or Decrease Pitch\n",
      "3. Insert Fade In Effect\n",
      "4. Insert Fade Out Effect\n",
      "5. Back to the main menu\n",
      "Please end the filename with .wav\n",
      "Audio successfully exported as 1.wav\n",
      "1. Increase or Decrease Volume\n",
      "2. Increase or Decrease Pitch\n",
      "3. Insert Fade In Effect\n",
      "4. Insert Fade Out Effect\n",
      "5. Back to the main menu\n",
      "Pitch input must be between -10 and 10\n",
      "Audio successfully exported as 2.wav\n",
      "1. Increase or Decrease Volume\n",
      "2. Increase or Decrease Pitch\n",
      "3. Insert Fade In Effect\n",
      "4. Insert Fade Out Effect\n",
      "5. Back to the main menu\n",
      "Audio successfully exported as 3.wav\n",
      "1. Increase or Decrease Volume\n",
      "2. Increase or Decrease Pitch\n",
      "3. Insert Fade In Effect\n",
      "4. Insert Fade Out Effect\n",
      "5. Back to the main menu\n",
      "Audio successfully exported as 4.wav\n",
      "1. Increase or Decrease Volume\n",
      "2. Increase or Decrease Pitch\n",
      "3. Insert Fade In Effect\n",
      "4. Insert Fade Out Effect\n",
      "5. Back to the main menu\n",
      "1. Audio Augmentation\n",
      "2. Predict Text\n",
      "3. Exit\n",
      "Text Prediction: THE PUBLIC ARE ENTREATED TO BEAR IN MIND THAT THIRTEEN YEARS HAVE PASSED SINCE IT WAS FINISHED MANY MORE SINCE IT WAS BEGUN AND THAT DURING THAT PERIOD PLACES MANNERS BOOKS AND OPINIONS HAVE UNDERGONE CONSIDERABLE CHANGES \n",
      "1. Audio Augmentation\n",
      "2. Predict Text\n",
      "3. Exit\n"
     ]
    }
   ],
   "source": [
    "main_menu()"
   ]
  }
 ],
 "metadata": {
  "kernelspec": {
   "display_name": "tf-env",
   "language": "python",
   "name": "python3"
  },
  "language_info": {
   "codemirror_mode": {
    "name": "ipython",
    "version": 3
   },
   "file_extension": ".py",
   "mimetype": "text/x-python",
   "name": "python",
   "nbconvert_exporter": "python",
   "pygments_lexer": "ipython3",
   "version": "3.10.6"
  }
 },
 "nbformat": 4,
 "nbformat_minor": 5
}
